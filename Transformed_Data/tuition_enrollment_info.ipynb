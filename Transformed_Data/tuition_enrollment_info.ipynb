{
 "cells": [
  {
   "cell_type": "code",
   "execution_count": 1,
   "metadata": {},
   "outputs": [],
   "source": [
    "#dependencies\n",
    "import scipy\n",
    "import matplotlib.pyplot as plt"
   ]
  },
  {
   "cell_type": "code",
   "execution_count": 2,
   "metadata": {},
   "outputs": [],
   "source": [
    "import numpy as np\n",
    "import pandas as pd\n"
   ]
  },
  {
   "cell_type": "code",
   "execution_count": 3,
   "metadata": {},
   "outputs": [
    {
     "data": {
      "text/html": [
       "<div>\n",
       "<style scoped>\n",
       "    .dataframe tbody tr th:only-of-type {\n",
       "        vertical-align: middle;\n",
       "    }\n",
       "\n",
       "    .dataframe tbody tr th {\n",
       "        vertical-align: top;\n",
       "    }\n",
       "\n",
       "    .dataframe thead th {\n",
       "        text-align: right;\n",
       "    }\n",
       "</style>\n",
       "<table border=\"1\" class=\"dataframe\">\n",
       "  <thead>\n",
       "    <tr style=\"text-align: right;\">\n",
       "      <th></th>\n",
       "      <th>4_id</th>\n",
       "      <th>start_year</th>\n",
       "      <th>end_year</th>\n",
       "      <th>public_tuition\\n</th>\n",
       "      <th>private_tuition\\n</th>\n",
       "    </tr>\n",
       "  </thead>\n",
       "  <tbody>\n",
       "    <tr>\n",
       "      <th>0</th>\n",
       "      <td>1</td>\n",
       "      <td>2009</td>\n",
       "      <td>2010</td>\n",
       "      <td>15036</td>\n",
       "      <td>31847</td>\n",
       "    </tr>\n",
       "    <tr>\n",
       "      <th>1</th>\n",
       "      <td>2</td>\n",
       "      <td>2010</td>\n",
       "      <td>2011</td>\n",
       "      <td>15919</td>\n",
       "      <td>32517</td>\n",
       "    </tr>\n",
       "    <tr>\n",
       "      <th>2</th>\n",
       "      <td>3</td>\n",
       "      <td>2011</td>\n",
       "      <td>2012</td>\n",
       "      <td>16787</td>\n",
       "      <td>33677</td>\n",
       "    </tr>\n",
       "    <tr>\n",
       "      <th>3</th>\n",
       "      <td>4</td>\n",
       "      <td>2012</td>\n",
       "      <td>2013</td>\n",
       "      <td>17475</td>\n",
       "      <td>35071</td>\n",
       "    </tr>\n",
       "    <tr>\n",
       "      <th>4</th>\n",
       "      <td>5</td>\n",
       "      <td>2013</td>\n",
       "      <td>2014</td>\n",
       "      <td>18100</td>\n",
       "      <td>36599</td>\n",
       "    </tr>\n",
       "  </tbody>\n",
       "</table>\n",
       "</div>"
      ],
      "text/plain": [
       "   4_id  start_year  end_year  public_tuition\\n  private_tuition\\n\n",
       "0     1        2009      2010             15036              31847\n",
       "1     2        2010      2011             15919              32517\n",
       "2     3        2011      2012             16787              33677\n",
       "3     4        2012      2013             17475              35071\n",
       "4     5        2013      2014             18100              36599"
      ]
     },
     "execution_count": 3,
     "metadata": {},
     "output_type": "execute_result"
    }
   ],
   "source": [
    "#read 4 year tuition csv\n",
    "year_4_tuition_df = pd.read_csv(\"//users/rebeccatast/desktop/year_4_tuition.csv\")\n",
    "year_4_tuition_df.head()"
   ]
  },
  {
   "cell_type": "code",
   "execution_count": 4,
   "metadata": {},
   "outputs": [
    {
     "data": {
      "text/html": [
       "<div>\n",
       "<style scoped>\n",
       "    .dataframe tbody tr th:only-of-type {\n",
       "        vertical-align: middle;\n",
       "    }\n",
       "\n",
       "    .dataframe tbody tr th {\n",
       "        vertical-align: top;\n",
       "    }\n",
       "\n",
       "    .dataframe thead th {\n",
       "        text-align: right;\n",
       "    }\n",
       "</style>\n",
       "<table border=\"1\" class=\"dataframe\">\n",
       "  <thead>\n",
       "    <tr style=\"text-align: right;\">\n",
       "      <th></th>\n",
       "      <th>4_id</th>\n",
       "      <th>year</th>\n",
       "      <th>public_enrollment</th>\n",
       "      <th>private_enrollment</th>\n",
       "      <th>total_enrollment</th>\n",
       "    </tr>\n",
       "  </thead>\n",
       "  <tbody>\n",
       "    <tr>\n",
       "      <th>0</th>\n",
       "      <td>1</td>\n",
       "      <td>2009</td>\n",
       "      <td>6284806</td>\n",
       "      <td>3656792</td>\n",
       "      <td>9941598</td>\n",
       "    </tr>\n",
       "    <tr>\n",
       "      <th>1</th>\n",
       "      <td>2</td>\n",
       "      <td>2010</td>\n",
       "      <td>6484937</td>\n",
       "      <td>3913893</td>\n",
       "      <td>10398830</td>\n",
       "    </tr>\n",
       "    <tr>\n",
       "      <th>2</th>\n",
       "      <td>3</td>\n",
       "      <td>2011</td>\n",
       "      <td>6626741</td>\n",
       "      <td>3939412</td>\n",
       "      <td>10566153</td>\n",
       "    </tr>\n",
       "    <tr>\n",
       "      <th>3</th>\n",
       "      <td>4</td>\n",
       "      <td>2012</td>\n",
       "      <td>6686035</td>\n",
       "      <td>3881763</td>\n",
       "      <td>10567798</td>\n",
       "    </tr>\n",
       "    <tr>\n",
       "      <th>4</th>\n",
       "      <td>5</td>\n",
       "      <td>2013</td>\n",
       "      <td>6721881</td>\n",
       "      <td>3783779</td>\n",
       "      <td>10505660</td>\n",
       "    </tr>\n",
       "  </tbody>\n",
       "</table>\n",
       "</div>"
      ],
      "text/plain": [
       "   4_id  year  public_enrollment  private_enrollment  total_enrollment\n",
       "0     1  2009            6284806             3656792           9941598\n",
       "1     2  2010            6484937             3913893          10398830\n",
       "2     3  2011            6626741             3939412          10566153\n",
       "3     4  2012            6686035             3881763          10567798\n",
       "4     5  2013            6721881             3783779          10505660"
      ]
     },
     "execution_count": 4,
     "metadata": {},
     "output_type": "execute_result"
    }
   ],
   "source": [
    "#read 4 year enrollment csv\n",
    "year_4_enrollment_df = pd.read_csv(\"//users/rebeccatast/desktop/year_4_enrollment.csv\")\n",
    "year_4_enrollment_df.head()"
   ]
  },
  {
   "cell_type": "code",
   "execution_count": 5,
   "metadata": {},
   "outputs": [
    {
     "name": "stdout",
     "output_type": "stream",
     "text": [
      "   4_id  start_year  end_year  public_tuition\\n  private_tuition\\n  year  \\\n",
      "0     1        2009      2010             15036              31847  2009   \n",
      "1     2        2010      2011             15919              32517  2010   \n",
      "2     3        2011      2012             16787              33677  2011   \n",
      "3     4        2012      2013             17475              35071  2012   \n",
      "4     5        2013      2014             18100              36599  2013   \n",
      "5     6        2014      2015             18632              37988  2014   \n",
      "6     7        2015      2016             19204              39534  2015   \n",
      "7     8        2016      2017             19488              41465  2016   \n",
      "8     9        2017      2018             20049              43131  2017   \n",
      "9    10        2018      2019             20598              44662  2018   \n",
      "\n",
      "   public_enrollment  private_enrollment  total_enrollment  \n",
      "0            6284806             3656792           9941598  \n",
      "1            6484937             3913893          10398830  \n",
      "2            6626741             3939412          10566153  \n",
      "3            6686035             3881763          10567798  \n",
      "4            6721881             3783779          10505660  \n",
      "5            6846981             3732477          10579458  \n",
      "6            6926519             3620693          10547212  \n",
      "7            7301070             3481161          10782231  \n",
      "8            7395134             3425131          10820265  \n",
      "9            7502622             3362405          10865027  \n"
     ]
    },
    {
     "data": {
      "text/html": [
       "<div>\n",
       "<style scoped>\n",
       "    .dataframe tbody tr th:only-of-type {\n",
       "        vertical-align: middle;\n",
       "    }\n",
       "\n",
       "    .dataframe tbody tr th {\n",
       "        vertical-align: top;\n",
       "    }\n",
       "\n",
       "    .dataframe thead th {\n",
       "        text-align: right;\n",
       "    }\n",
       "</style>\n",
       "<table border=\"1\" class=\"dataframe\">\n",
       "  <thead>\n",
       "    <tr style=\"text-align: right;\">\n",
       "      <th></th>\n",
       "      <th>4_id</th>\n",
       "      <th>start_year</th>\n",
       "      <th>end_year</th>\n",
       "      <th>public_tuition\\n</th>\n",
       "      <th>private_tuition\\n</th>\n",
       "      <th>year</th>\n",
       "      <th>public_enrollment</th>\n",
       "      <th>private_enrollment</th>\n",
       "      <th>total_enrollment</th>\n",
       "    </tr>\n",
       "  </thead>\n",
       "  <tbody>\n",
       "    <tr>\n",
       "      <th>0</th>\n",
       "      <td>1</td>\n",
       "      <td>2009</td>\n",
       "      <td>2010</td>\n",
       "      <td>15036</td>\n",
       "      <td>31847</td>\n",
       "      <td>2009</td>\n",
       "      <td>6284806</td>\n",
       "      <td>3656792</td>\n",
       "      <td>9941598</td>\n",
       "    </tr>\n",
       "    <tr>\n",
       "      <th>1</th>\n",
       "      <td>2</td>\n",
       "      <td>2010</td>\n",
       "      <td>2011</td>\n",
       "      <td>15919</td>\n",
       "      <td>32517</td>\n",
       "      <td>2010</td>\n",
       "      <td>6484937</td>\n",
       "      <td>3913893</td>\n",
       "      <td>10398830</td>\n",
       "    </tr>\n",
       "    <tr>\n",
       "      <th>2</th>\n",
       "      <td>3</td>\n",
       "      <td>2011</td>\n",
       "      <td>2012</td>\n",
       "      <td>16787</td>\n",
       "      <td>33677</td>\n",
       "      <td>2011</td>\n",
       "      <td>6626741</td>\n",
       "      <td>3939412</td>\n",
       "      <td>10566153</td>\n",
       "    </tr>\n",
       "    <tr>\n",
       "      <th>3</th>\n",
       "      <td>4</td>\n",
       "      <td>2012</td>\n",
       "      <td>2013</td>\n",
       "      <td>17475</td>\n",
       "      <td>35071</td>\n",
       "      <td>2012</td>\n",
       "      <td>6686035</td>\n",
       "      <td>3881763</td>\n",
       "      <td>10567798</td>\n",
       "    </tr>\n",
       "    <tr>\n",
       "      <th>4</th>\n",
       "      <td>5</td>\n",
       "      <td>2013</td>\n",
       "      <td>2014</td>\n",
       "      <td>18100</td>\n",
       "      <td>36599</td>\n",
       "      <td>2013</td>\n",
       "      <td>6721881</td>\n",
       "      <td>3783779</td>\n",
       "      <td>10505660</td>\n",
       "    </tr>\n",
       "  </tbody>\n",
       "</table>\n",
       "</div>"
      ],
      "text/plain": [
       "   4_id  start_year  end_year  public_tuition\\n  private_tuition\\n  year  \\\n",
       "0     1        2009      2010             15036              31847  2009   \n",
       "1     2        2010      2011             15919              32517  2010   \n",
       "2     3        2011      2012             16787              33677  2011   \n",
       "3     4        2012      2013             17475              35071  2012   \n",
       "4     5        2013      2014             18100              36599  2013   \n",
       "\n",
       "   public_enrollment  private_enrollment  total_enrollment  \n",
       "0            6284806             3656792           9941598  \n",
       "1            6484937             3913893          10398830  \n",
       "2            6626741             3939412          10566153  \n",
       "3            6686035             3881763          10567798  \n",
       "4            6721881             3783779          10505660  "
      ]
     },
     "execution_count": 5,
     "metadata": {},
     "output_type": "execute_result"
    }
   ],
   "source": [
    "#Merge datasets and print\n",
    "complete_data_4_df = pd.merge(year_4_tuition_df, year_4_enrollment_df,how = 'left', on=[\"4_id\",\"4_id\"])\n",
    "print (complete_data_4_df)\n",
    "complete_data_4_df.head()"
   ]
  },
  {
   "cell_type": "code",
   "execution_count": 6,
   "metadata": {},
   "outputs": [],
   "source": [
    "#Group by 4 year public universities and tuition\n",
    "public_group_four_year = complete_data_4_df.set_index(\"public_tuition\\n\").groupby([\"public_enrollment\"])"
   ]
  },
  {
   "cell_type": "code",
   "execution_count": 7,
   "metadata": {},
   "outputs": [
    {
     "name": "stdout",
     "output_type": "stream",
     "text": [
      "public_tuition\\n\n",
      "15036    6284806\n",
      "15919    6484937\n",
      "16787    6626741\n",
      "17475    6686035\n",
      "18100    6721881\n",
      "18632    6846981\n",
      "19204    6926519\n",
      "19488    7301070\n",
      "20049    7395134\n",
      "20598    7502622\n",
      "Name: public_enrollment, dtype: int64\n"
     ]
    }
   ],
   "source": [
    "#Public tuition and enrollment\n",
    "public_four_by_tuition = complete_data_4_df.set_index(\"public_tuition\\n\")[\"public_enrollment\"]\n",
    "print(public_four_by_tuition)"
   ]
  },
  {
   "cell_type": "code",
   "execution_count": 8,
   "metadata": {},
   "outputs": [],
   "source": [
    "#pulling variables from df for plotting\n",
    "pub_tuition = complete_data_4_df[\"public_tuition\\n\"]\n",
    "pri_tuition = complete_data_4_df[\"private_tuition\\n\"]\n",
    "pub_enrollment = complete_data_4_df[\"public_enrollment\"]\n",
    "pri_enrollment = complete_data_4_df[\"private_enrollment\"]"
   ]
  },
  {
   "cell_type": "code",
   "execution_count": 9,
   "metadata": {},
   "outputs": [
    {
     "data": {
      "image/png": "[encoded data removed]",
      "text/plain": [
       "<Figure size 432x288 with 1 Axes>"
      ]
     },
     "metadata": {
      "needs_background": "light"
     },
     "output_type": "display_data"
    }
   ],
   "source": [
    "#Scatter Plot 4 year public university tuition vs. enrollment\n",
    "plt.scatter(pub_enrollment,\n",
    "           pub_tuition, \n",
    "           edgecolor=\"black\", linewidths=1, marker=\"o\",alpha=0.8)\n",
    "plt.ylabel(\"Tuition (dollars)\")\n",
    "plt.xlabel(\"Enrollment (million)\")\n",
    "plt.title(\"Enrollment vs. Tuition at 4-year public universities 2009-2019\")\n",
    "plt.grid(True)\n",
    "plt.savefig(\"/users/rebeccatast/desktop/Fig1.png\")\n",
    "\n",
    "plt.show()"
   ]
  },
  {
   "cell_type": "code",
   "execution_count": 10,
   "metadata": {},
   "outputs": [
    {
     "name": "stdout",
     "output_type": "stream",
     "text": [
      "                   public_tuition\\n  public_enrollment\n",
      "public_tuition\\n           1.000000           0.955585\n",
      "public_enrollment          0.955585           1.000000\n"
     ]
    }
   ],
   "source": [
    "#correlation between 4 year public tuition and public enrollment\n",
    "print(complete_data_4_df[[\"public_tuition\\n\",'public_enrollment']].corr())"
   ]
  },
  {
   "cell_type": "code",
   "execution_count": 11,
   "metadata": {},
   "outputs": [],
   "source": [
    "#Group by private 4 year universities and tuition\n",
    "private_group_four_year = complete_data_4_df.set_index(\"private_tuition\\n\").groupby([\"private_enrollment\"])"
   ]
  },
  {
   "cell_type": "code",
   "execution_count": 12,
   "metadata": {
    "scrolled": true
   },
   "outputs": [
    {
     "name": "stdout",
     "output_type": "stream",
     "text": [
      "private_tuition\\n\n",
      "31847    3656792\n",
      "32517    3913893\n",
      "33677    3939412\n",
      "35071    3881763\n",
      "36599    3783779\n",
      "37988    3732477\n",
      "39534    3620693\n",
      "41465    3481161\n",
      "43131    3425131\n",
      "44662    3362405\n",
      "Name: private_enrollment, dtype: int64\n"
     ]
    }
   ],
   "source": [
    "#Private tuition and enrollment\n",
    "private_four_by_tuition = complete_data_4_df.set_index(\"private_tuition\\n\")[\"private_enrollment\"]\n",
    "print(private_four_by_tuition)"
   ]
  },
  {
   "cell_type": "code",
   "execution_count": 13,
   "metadata": {},
   "outputs": [
    {
     "data": {
      "image/png": "[encoded data removed]",
      "text/plain": [
       "<Figure size 432x288 with 1 Axes>"
      ]
     },
     "metadata": {
      "needs_background": "light"
     },
     "output_type": "display_data"
    }
   ],
   "source": [
    "#Scatter Plot 4 year private university tuition vs. enrollment\n",
    "plt.scatter(pri_enrollment,\n",
    "           pri_tuition, \n",
    "           edgecolor=\"black\", linewidths=1, marker=\"o\",alpha=0.8)\n",
    "plt.ylabel(\"Tuition (dollars)\")\n",
    "plt.xlabel(\"Enrollment (million)\")\n",
    "plt.title(\"Enrollment vs. Tuition at 4-year private universities 2009-2019\")\n",
    "plt.grid(True)\n",
    "plt.savefig(\"/users/rebeccatast/desktop/Fig2.png\")\n",
    "\n",
    "plt.show()"
   ]
  },
  {
   "cell_type": "code",
   "execution_count": 14,
   "metadata": {},
   "outputs": [
    {
     "name": "stdout",
     "output_type": "stream",
     "text": [
      "                    private_tuition\\n  private_enrollment\n",
      "private_tuition\\n            1.000000           -0.862095\n",
      "private_enrollment          -0.862095            1.000000\n"
     ]
    }
   ],
   "source": [
    "#correlation between 4 year private tuition and private enrollment\n",
    "print(complete_data_4_df[[\"private_tuition\\n\",'private_enrollment']].corr())"
   ]
  },
  {
   "cell_type": "code",
   "execution_count": 15,
   "metadata": {},
   "outputs": [
    {
     "data": {
      "text/html": [
       "<div>\n",
       "<style scoped>\n",
       "    .dataframe tbody tr th:only-of-type {\n",
       "        vertical-align: middle;\n",
       "    }\n",
       "\n",
       "    .dataframe tbody tr th {\n",
       "        vertical-align: top;\n",
       "    }\n",
       "\n",
       "    .dataframe thead th {\n",
       "        text-align: right;\n",
       "    }\n",
       "</style>\n",
       "<table border=\"1\" class=\"dataframe\">\n",
       "  <thead>\n",
       "    <tr style=\"text-align: right;\">\n",
       "      <th></th>\n",
       "      <th>2_id</th>\n",
       "      <th>start_year</th>\n",
       "      <th>end_year</th>\n",
       "      <th>public_tuition</th>\n",
       "      <th>private_tuition</th>\n",
       "    </tr>\n",
       "  </thead>\n",
       "  <tbody>\n",
       "    <tr>\n",
       "      <th>0</th>\n",
       "      <td>1</td>\n",
       "      <td>2009</td>\n",
       "      <td>2010</td>\n",
       "      <td>7708</td>\n",
       "      <td>24463</td>\n",
       "    </tr>\n",
       "    <tr>\n",
       "      <th>1</th>\n",
       "      <td>2</td>\n",
       "      <td>2010</td>\n",
       "      <td>2011</td>\n",
       "      <td>8079</td>\n",
       "      <td>23101</td>\n",
       "    </tr>\n",
       "    <tr>\n",
       "      <th>2</th>\n",
       "      <td>3</td>\n",
       "      <td>2011</td>\n",
       "      <td>2012</td>\n",
       "      <td>8617</td>\n",
       "      <td>23605</td>\n",
       "    </tr>\n",
       "    <tr>\n",
       "      <th>3</th>\n",
       "      <td>4</td>\n",
       "      <td>2012</td>\n",
       "      <td>2013</td>\n",
       "      <td>8927</td>\n",
       "      <td>23355</td>\n",
       "    </tr>\n",
       "    <tr>\n",
       "      <th>4</th>\n",
       "      <td>5</td>\n",
       "      <td>2013</td>\n",
       "      <td>2014</td>\n",
       "      <td>9283</td>\n",
       "      <td>23870</td>\n",
       "    </tr>\n",
       "  </tbody>\n",
       "</table>\n",
       "</div>"
      ],
      "text/plain": [
       "   2_id  start_year  end_year  public_tuition  private_tuition\n",
       "0     1        2009      2010            7708            24463\n",
       "1     2        2010      2011            8079            23101\n",
       "2     3        2011      2012            8617            23605\n",
       "3     4        2012      2013            8927            23355\n",
       "4     5        2013      2014            9283            23870"
      ]
     },
     "execution_count": 15,
     "metadata": {},
     "output_type": "execute_result"
    }
   ],
   "source": [
    "#read 2 year tuition csv\n",
    "year_2_tuition_df = pd.read_csv(\"//users/rebeccatast/desktop/year_2_tuition.csv\")\n",
    "year_2_tuition_df.head()"
   ]
  },
  {
   "cell_type": "code",
   "execution_count": 16,
   "metadata": {},
   "outputs": [
    {
     "data": {
      "text/html": [
       "<div>\n",
       "<style scoped>\n",
       "    .dataframe tbody tr th:only-of-type {\n",
       "        vertical-align: middle;\n",
       "    }\n",
       "\n",
       "    .dataframe tbody tr th {\n",
       "        vertical-align: top;\n",
       "    }\n",
       "\n",
       "    .dataframe thead th {\n",
       "        text-align: right;\n",
       "    }\n",
       "</style>\n",
       "<table border=\"1\" class=\"dataframe\">\n",
       "  <thead>\n",
       "    <tr style=\"text-align: right;\">\n",
       "      <th></th>\n",
       "      <th>2_id</th>\n",
       "      <th>year</th>\n",
       "      <th>public_enrollment</th>\n",
       "      <th>private_enrollment</th>\n",
       "      <th>total_enrollment</th>\n",
       "    </tr>\n",
       "  </thead>\n",
       "  <tbody>\n",
       "    <tr>\n",
       "      <th>0</th>\n",
       "      <td>1</td>\n",
       "      <td>2009</td>\n",
       "      <td>7101569</td>\n",
       "      <td>421012</td>\n",
       "      <td>7522581</td>\n",
       "    </tr>\n",
       "    <tr>\n",
       "      <th>1</th>\n",
       "      <td>2</td>\n",
       "      <td>2010</td>\n",
       "      <td>7218063</td>\n",
       "      <td>465534</td>\n",
       "      <td>7683597</td>\n",
       "    </tr>\n",
       "    <tr>\n",
       "      <th>2</th>\n",
       "      <td>3</td>\n",
       "      <td>2011</td>\n",
       "      <td>7068158</td>\n",
       "      <td>442992</td>\n",
       "      <td>7511150</td>\n",
       "    </tr>\n",
       "    <tr>\n",
       "      <th>3</th>\n",
       "      <td>4</td>\n",
       "      <td>2012</td>\n",
       "      <td>6792065</td>\n",
       "      <td>375775</td>\n",
       "      <td>7167840</td>\n",
       "    </tr>\n",
       "    <tr>\n",
       "      <th>4</th>\n",
       "      <td>5</td>\n",
       "      <td>2013</td>\n",
       "      <td>6626411</td>\n",
       "      <td>344233</td>\n",
       "      <td>6970644</td>\n",
       "    </tr>\n",
       "  </tbody>\n",
       "</table>\n",
       "</div>"
      ],
      "text/plain": [
       "   2_id  year  public_enrollment  private_enrollment  total_enrollment\n",
       "0     1  2009            7101569              421012           7522581\n",
       "1     2  2010            7218063              465534           7683597\n",
       "2     3  2011            7068158              442992           7511150\n",
       "3     4  2012            6792065              375775           7167840\n",
       "4     5  2013            6626411              344233           6970644"
      ]
     },
     "execution_count": 16,
     "metadata": {},
     "output_type": "execute_result"
    }
   ],
   "source": [
    "#read 2 year enrollment csv\n",
    "year_2_enrollment_df = pd.read_csv(\"//users/rebeccatast/desktop/year_2_enrollment.csv\")\n",
    "year_2_enrollment_df.head()"
   ]
  },
  {
   "cell_type": "code",
   "execution_count": 17,
   "metadata": {},
   "outputs": [
    {
     "name": "stdout",
     "output_type": "stream",
     "text": [
      "   2_id  start_year  end_year  public_tuition  private_tuition  year  \\\n",
      "0     1        2009      2010            7708            24463  2009   \n",
      "1     2        2010      2011            8079            23101  2010   \n",
      "2     3        2011      2012            8617            23605  2011   \n",
      "3     4        2012      2013            8927            23355  2012   \n",
      "4     5        2013      2014            9283            23870  2013   \n",
      "5     6        2014      2015            9585            24327  2014   \n",
      "6     7        2015      2016            9914            24375  2015   \n",
      "7     8        2016      2017           10090            24888  2016   \n",
      "8     9        2017      2018           10280            25596  2017   \n",
      "9    10        2018      2019           10950            28627  2018   \n",
      "\n",
      "   public_enrollment  private_enrollment  total_enrollment  \n",
      "0            7101569              421012           7522581  \n",
      "1            7218063              465534           7683597  \n",
      "2            7068158              442992           7511150  \n",
      "3            6792065              375775           7167840  \n",
      "4            6626411              344233           6970644  \n",
      "5            6397552              317126           6714678  \n",
      "6            6224304              275157           6499461  \n",
      "7            5842909              249509           6092418  \n",
      "8            5717460              235311           5952771  \n",
      "9            5546704              198504           5745208  \n"
     ]
    },
    {
     "data": {
      "text/html": [
       "<div>\n",
       "<style scoped>\n",
       "    .dataframe tbody tr th:only-of-type {\n",
       "        vertical-align: middle;\n",
       "    }\n",
       "\n",
       "    .dataframe tbody tr th {\n",
       "        vertical-align: top;\n",
       "    }\n",
       "\n",
       "    .dataframe thead th {\n",
       "        text-align: right;\n",
       "    }\n",
       "</style>\n",
       "<table border=\"1\" class=\"dataframe\">\n",
       "  <thead>\n",
       "    <tr style=\"text-align: right;\">\n",
       "      <th></th>\n",
       "      <th>2_id</th>\n",
       "      <th>start_year</th>\n",
       "      <th>end_year</th>\n",
       "      <th>public_tuition</th>\n",
       "      <th>private_tuition</th>\n",
       "      <th>year</th>\n",
       "      <th>public_enrollment</th>\n",
       "      <th>private_enrollment</th>\n",
       "      <th>total_enrollment</th>\n",
       "    </tr>\n",
       "  </thead>\n",
       "  <tbody>\n",
       "    <tr>\n",
       "      <th>0</th>\n",
       "      <td>1</td>\n",
       "      <td>2009</td>\n",
       "      <td>2010</td>\n",
       "      <td>7708</td>\n",
       "      <td>24463</td>\n",
       "      <td>2009</td>\n",
       "      <td>7101569</td>\n",
       "      <td>421012</td>\n",
       "      <td>7522581</td>\n",
       "    </tr>\n",
       "    <tr>\n",
       "      <th>1</th>\n",
       "      <td>2</td>\n",
       "      <td>2010</td>\n",
       "      <td>2011</td>\n",
       "      <td>8079</td>\n",
       "      <td>23101</td>\n",
       "      <td>2010</td>\n",
       "      <td>7218063</td>\n",
       "      <td>465534</td>\n",
       "      <td>7683597</td>\n",
       "    </tr>\n",
       "    <tr>\n",
       "      <th>2</th>\n",
       "      <td>3</td>\n",
       "      <td>2011</td>\n",
       "      <td>2012</td>\n",
       "      <td>8617</td>\n",
       "      <td>23605</td>\n",
       "      <td>2011</td>\n",
       "      <td>7068158</td>\n",
       "      <td>442992</td>\n",
       "      <td>7511150</td>\n",
       "    </tr>\n",
       "    <tr>\n",
       "      <th>3</th>\n",
       "      <td>4</td>\n",
       "      <td>2012</td>\n",
       "      <td>2013</td>\n",
       "      <td>8927</td>\n",
       "      <td>23355</td>\n",
       "      <td>2012</td>\n",
       "      <td>6792065</td>\n",
       "      <td>375775</td>\n",
       "      <td>7167840</td>\n",
       "    </tr>\n",
       "    <tr>\n",
       "      <th>4</th>\n",
       "      <td>5</td>\n",
       "      <td>2013</td>\n",
       "      <td>2014</td>\n",
       "      <td>9283</td>\n",
       "      <td>23870</td>\n",
       "      <td>2013</td>\n",
       "      <td>6626411</td>\n",
       "      <td>344233</td>\n",
       "      <td>6970644</td>\n",
       "    </tr>\n",
       "  </tbody>\n",
       "</table>\n",
       "</div>"
      ],
      "text/plain": [
       "   2_id  start_year  end_year  public_tuition  private_tuition  year  \\\n",
       "0     1        2009      2010            7708            24463  2009   \n",
       "1     2        2010      2011            8079            23101  2010   \n",
       "2     3        2011      2012            8617            23605  2011   \n",
       "3     4        2012      2013            8927            23355  2012   \n",
       "4     5        2013      2014            9283            23870  2013   \n",
       "\n",
       "   public_enrollment  private_enrollment  total_enrollment  \n",
       "0            7101569              421012           7522581  \n",
       "1            7218063              465534           7683597  \n",
       "2            7068158              442992           7511150  \n",
       "3            6792065              375775           7167840  \n",
       "4            6626411              344233           6970644  "
      ]
     },
     "execution_count": 17,
     "metadata": {},
     "output_type": "execute_result"
    }
   ],
   "source": [
    "#Merge datasets and print\n",
    "complete_data_2_df = pd.merge(year_2_tuition_df, year_2_enrollment_df,how = 'left', on=[\"2_id\",\"2_id\"])\n",
    "print (complete_data_2_df)\n",
    "complete_data_2_df.head()"
   ]
  },
  {
   "cell_type": "code",
   "execution_count": 18,
   "metadata": {},
   "outputs": [],
   "source": [
    "#Group by 2 year public universities and tuition\n",
    "public_group_two_year = complete_data_2_df.set_index(\"public_tuition\").groupby([\"public_enrollment\"])"
   ]
  },
  {
   "cell_type": "code",
   "execution_count": 19,
   "metadata": {},
   "outputs": [
    {
     "name": "stdout",
     "output_type": "stream",
     "text": [
      "public_tuition\n",
      "7708     7101569\n",
      "8079     7218063\n",
      "8617     7068158\n",
      "8927     6792065\n",
      "9283     6626411\n",
      "9585     6397552\n",
      "9914     6224304\n",
      "10090    5842909\n",
      "10280    5717460\n",
      "10950    5546704\n",
      "Name: public_enrollment, dtype: int64\n"
     ]
    }
   ],
   "source": [
    "#Public 2 year universities tuition and enrollment\n",
    "public_two_by_tuition = complete_data_2_df.set_index(\"public_tuition\")[\"public_enrollment\"]\n",
    "print(public_two_by_tuition)"
   ]
  },
  {
   "cell_type": "code",
   "execution_count": 20,
   "metadata": {},
   "outputs": [],
   "source": [
    "#pulling variables from df for plotting\n",
    "pub2_tuition = complete_data_2_df[\"public_tuition\"]\n",
    "pri2_tuition = complete_data_2_df[\"private_tuition\"]\n",
    "pub2_enrollment = complete_data_2_df[\"public_enrollment\"]\n",
    "pri2_enrollment = complete_data_2_df[\"private_enrollment\"]"
   ]
  },
  {
   "cell_type": "code",
   "execution_count": 21,
   "metadata": {},
   "outputs": [
    {
     "data": {
      "image/png": "[encoded data removed]",
      "text/plain": [
       "<Figure size 432x288 with 1 Axes>"
      ]
     },
     "metadata": {
      "needs_background": "light"
     },
     "output_type": "display_data"
    }
   ],
   "source": [
    "#Scatter Plot 2 year public university tuition vs. enrollment\n",
    "plt.scatter(pub2_enrollment,\n",
    "           pub2_tuition, \n",
    "           edgecolor=\"black\", linewidths=1, marker=\"o\",alpha=0.8)\n",
    "plt.ylabel(\"Tuition (dollars)\")\n",
    "plt.xlabel(\"Enrollment (million)\")\n",
    "plt.title(\"Enrollment vs. Tuition at 2-year public universities 2009-2019\")\n",
    "plt.grid(True)\n",
    "plt.savefig(\"/users/rebeccatast/desktop/Fig3.png\")\n",
    "\n",
    "plt.show()"
   ]
  },
  {
   "cell_type": "code",
   "execution_count": 22,
   "metadata": {},
   "outputs": [
    {
     "name": "stdout",
     "output_type": "stream",
     "text": [
      "                   public_tuition  public_enrollment\n",
      "public_tuition           1.000000          -0.962648\n",
      "public_enrollment       -0.962648           1.000000\n"
     ]
    }
   ],
   "source": [
    "#correlation between tuition and enrollment public 2-year universities\n",
    "print(complete_data_2_df[[\"public_tuition\",'public_enrollment']].corr())"
   ]
  },
  {
   "cell_type": "code",
   "execution_count": 23,
   "metadata": {},
   "outputs": [
    {
     "name": "stdout",
     "output_type": "stream",
     "text": [
      "private_tuition\n",
      "24463    421012\n",
      "23101    465534\n",
      "23605    442992\n",
      "23355    375775\n",
      "23870    344233\n",
      "24327    317126\n",
      "24375    275157\n",
      "24888    249509\n",
      "25596    235311\n",
      "28627    198504\n",
      "Name: private_enrollment, dtype: int64\n"
     ]
    }
   ],
   "source": [
    "#Private 2 year universities tuition and enrollment\n",
    "private_two_by_tuition = complete_data_2_df.set_index(\"private_tuition\")[\"private_enrollment\"]\n",
    "print(private_two_by_tuition)"
   ]
  },
  {
   "cell_type": "code",
   "execution_count": 24,
   "metadata": {},
   "outputs": [
    {
     "data": {
      "image/png": "[encoded data removed]",
      "text/plain": [
       "<Figure size 432x288 with 1 Axes>"
      ]
     },
     "metadata": {
      "needs_background": "light"
     },
     "output_type": "display_data"
    }
   ],
   "source": [
    "#Scatter Plot 2 year private university tuition vs. enrollment\n",
    "plt.scatter(pri2_enrollment,\n",
    "           pri2_tuition, \n",
    "           edgecolor=\"black\", linewidths=1, marker=\"o\",alpha=0.8)\n",
    "plt.ylabel(\"Tuition (10,000 dollars)\")\n",
    "plt.xlabel(\"Enrollment\")\n",
    "plt.title(\"Enrollment vs. Tuition at 2-year private universities 2009-2019\")\n",
    "plt.grid(True)\n",
    "plt.savefig(\"/users/rebeccatast/desktop/Fig4.png\")\n",
    "\n",
    "plt.show()"
   ]
  },
  {
   "cell_type": "code",
   "execution_count": 25,
   "metadata": {},
   "outputs": [
    {
     "name": "stdout",
     "output_type": "stream",
     "text": [
      "                    private_tuition  private_enrollment\n",
      "private_tuition            1.000000           -0.773204\n",
      "private_enrollment        -0.773204            1.000000\n"
     ]
    }
   ],
   "source": [
    "#correlation between tuition and enrollment private 2-year universities\n",
    "print(complete_data_2_df[[\"private_tuition\",'private_enrollment']].corr())"
   ]
  },
  {
   "cell_type": "code",
   "execution_count": 26,
   "metadata": {
    "scrolled": true
   },
   "outputs": [
    {
     "data": {
      "text/html": [
       "<div>\n",
       "<style scoped>\n",
       "    .dataframe tbody tr th:only-of-type {\n",
       "        vertical-align: middle;\n",
       "    }\n",
       "\n",
       "    .dataframe tbody tr th {\n",
       "        vertical-align: top;\n",
       "    }\n",
       "\n",
       "    .dataframe thead th {\n",
       "        text-align: right;\n",
       "    }\n",
       "</style>\n",
       "<table border=\"1\" class=\"dataframe\">\n",
       "  <thead>\n",
       "    <tr style=\"text-align: right;\">\n",
       "      <th></th>\n",
       "      <th>year</th>\n",
       "      <th>2_id</th>\n",
       "      <th>public2_enrollment</th>\n",
       "      <th>private2_enrollment</th>\n",
       "      <th>public2_tuition</th>\n",
       "      <th>private2_tuition</th>\n",
       "    </tr>\n",
       "  </thead>\n",
       "  <tbody>\n",
       "    <tr>\n",
       "      <th>0</th>\n",
       "      <td>1986.0</td>\n",
       "      <td>1.0</td>\n",
       "      <td>4413691.0</td>\n",
       "      <td>265857.0</td>\n",
       "      <td>2989.0</td>\n",
       "      <td>6384.0</td>\n",
       "    </tr>\n",
       "    <tr>\n",
       "      <th>1</th>\n",
       "      <td>1987.0</td>\n",
       "      <td>2.0</td>\n",
       "      <td>4541054.0</td>\n",
       "      <td>235168.0</td>\n",
       "      <td>3066.0</td>\n",
       "      <td>7078.0</td>\n",
       "    </tr>\n",
       "    <tr>\n",
       "      <th>2</th>\n",
       "      <td>1988.0</td>\n",
       "      <td>3.0</td>\n",
       "      <td>4615487.0</td>\n",
       "      <td>259668.0</td>\n",
       "      <td>3183.0</td>\n",
       "      <td>7967.0</td>\n",
       "    </tr>\n",
       "    <tr>\n",
       "      <th>3</th>\n",
       "      <td>1989.0</td>\n",
       "      <td>4.0</td>\n",
       "      <td>4883660.0</td>\n",
       "      <td>267229.0</td>\n",
       "      <td>3299.0</td>\n",
       "      <td>8670.0</td>\n",
       "    </tr>\n",
       "    <tr>\n",
       "      <th>4</th>\n",
       "      <td>1990.0</td>\n",
       "      <td>5.0</td>\n",
       "      <td>4996475.0</td>\n",
       "      <td>243608.0</td>\n",
       "      <td>3467.0</td>\n",
       "      <td>9302.0</td>\n",
       "    </tr>\n",
       "  </tbody>\n",
       "</table>\n",
       "</div>"
      ],
      "text/plain": [
       "     year  2_id  public2_enrollment  private2_enrollment  public2_tuition  \\\n",
       "0  1986.0   1.0           4413691.0             265857.0           2989.0   \n",
       "1  1987.0   2.0           4541054.0             235168.0           3066.0   \n",
       "2  1988.0   3.0           4615487.0             259668.0           3183.0   \n",
       "3  1989.0   4.0           4883660.0             267229.0           3299.0   \n",
       "4  1990.0   5.0           4996475.0             243608.0           3467.0   \n",
       "\n",
       "   private2_tuition  \n",
       "0            6384.0  \n",
       "1            7078.0  \n",
       "2            7967.0  \n",
       "3            8670.0  \n",
       "4            9302.0  "
      ]
     },
     "execution_count": 26,
     "metadata": {},
     "output_type": "execute_result"
    }
   ],
   "source": [
    "#read 33 year data csv for 2 year university tuition and enrollment\n",
    "year_2_numbers_df = pd.read_csv(\"//users/rebeccatast/desktop/2_year_tui_enroll.csv\")\n",
    "year_2_numbers_df.head()"
   ]
  },
  {
   "cell_type": "code",
   "execution_count": 27,
   "metadata": {},
   "outputs": [],
   "source": [
    "#pulling variables from df for plotting\n",
    "public2_tuition = year_2_numbers_df[\"public2_tuition\"]\n",
    "private2_tuition = year_2_numbers_df[\"private2_tuition\"]\n",
    "public2_enrollment = year_2_numbers_df[\"public2_enrollment\"]\n",
    "private2_enrollment = year_2_numbers_df[\"private2_enrollment\"]"
   ]
  },
  {
   "cell_type": "code",
   "execution_count": 28,
   "metadata": {},
   "outputs": [],
   "source": [
    "#Group by 2 year public universities and tuition 1986-2019\n",
    "public_group_two_year_full = year_2_numbers_df.set_index(\"public2_tuition\").groupby([\"public2_enrollment\"])"
   ]
  },
  {
   "cell_type": "code",
   "execution_count": 29,
   "metadata": {},
   "outputs": [
    {
     "name": "stdout",
     "output_type": "stream",
     "text": [
      "public2_tuition\n",
      "2989.0     4413691.0\n",
      "3066.0     4541054.0\n",
      "3183.0     4615487.0\n",
      "3299.0     4883660.0\n",
      "3467.0     4996475.0\n",
      "3623.0     5404815.0\n",
      "3799.0     5484514.0\n",
      "3996.0     5337022.0\n",
      "4137.0     5308366.0\n",
      "4217.0     5277398.0\n",
      "4404.0     5314038.0\n",
      "4509.0     5360686.0\n",
      "4604.0     5245963.0\n",
      "4730.0     5397786.0\n",
      "4839.0     5697061.0\n",
      "5137.0     5996651.0\n",
      "5601.0     6270199.0\n",
      "6012.0     6208885.0\n",
      "6375.0     6243344.0\n",
      "6492.0     6184000.0\n",
      "6815.0     6219880.0\n",
      "6977.0     6335826.0\n",
      "7549.0     6639928.0\n",
      "7708.0     7101569.0\n",
      "8079.0     7218063.0\n",
      "8617.0     7068158.0\n",
      "8927.0     6792065.0\n",
      "9283.0     6626411.0\n",
      "9585.0     6397552.0\n",
      "9914.0     6224304.0\n",
      "10090.0    5842909.0\n",
      "10280.0    5717460.0\n",
      "10950.0    5546704.0\n",
      "NaN              NaN\n",
      "NaN              NaN\n",
      "NaN              NaN\n",
      "NaN              NaN\n",
      "NaN              NaN\n",
      "NaN              NaN\n",
      "NaN              NaN\n",
      "NaN              NaN\n",
      "NaN              NaN\n",
      "NaN              NaN\n",
      "NaN              NaN\n",
      "NaN              NaN\n",
      "NaN              NaN\n",
      "NaN              NaN\n",
      "NaN              NaN\n",
      "NaN              NaN\n",
      "NaN              NaN\n",
      "Name: public2_enrollment, dtype: float64\n"
     ]
    }
   ],
   "source": [
    "#Public 2 year universities tuition and enrollment 1986-2019\n",
    "public_two_by_tuition_full = year_2_numbers_df.set_index(\"public2_tuition\")[\"public2_enrollment\"]\n",
    "print(public_two_by_tuition_full)"
   ]
  },
  {
   "cell_type": "code",
   "execution_count": 30,
   "metadata": {},
   "outputs": [
    {
     "data": {
      "image/png": "[encoded data removed]",
      "text/plain": [
       "<Figure size 432x288 with 1 Axes>"
      ]
     },
     "metadata": {
      "needs_background": "light"
     },
     "output_type": "display_data"
    }
   ],
   "source": [
    "#Scatter Plot 2 year public university tuition vs. enrollment 1986-2019\n",
    "plt.scatter(public2_enrollment,\n",
    "           public2_tuition, \n",
    "           edgecolor=\"black\", linewidths=1, marker=\"o\",alpha=0.8)\n",
    "plt.ylabel(\"Tuition\")\n",
    "plt.xlabel(\"Enrollment (millions)\")\n",
    "plt.title(\"Enrollment vs. Tuition at 2-year public universities 1986-2019\")\n",
    "plt.grid(True)\n",
    "plt.savefig(\"/users/rebeccatast/desktop/Fig5.png\")\n",
    "\n",
    "plt.show()"
   ]
  },
  {
   "cell_type": "code",
   "execution_count": 31,
   "metadata": {},
   "outputs": [
    {
     "name": "stdout",
     "output_type": "stream",
     "text": [
      "                    public2_tuition  public2_enrollment\n",
      "public2_tuition              1.0000              0.7032\n",
      "public2_enrollment           0.7032              1.0000\n"
     ]
    }
   ],
   "source": [
    "#correlation between tuition and enrollment public 2-year universities 1986-2019\n",
    "print(year_2_numbers_df[[\"public2_tuition\",\"public2_enrollment\"]].corr())"
   ]
  },
  {
   "cell_type": "code",
   "execution_count": 32,
   "metadata": {},
   "outputs": [
    {
     "name": "stdout",
     "output_type": "stream",
     "text": [
      "                     private2_tuition  private2_enrollment\n",
      "private2_tuition             1.000000             0.503721\n",
      "private2_enrollment          0.503721             1.000000\n"
     ]
    }
   ],
   "source": [
    "#correlation between tuition and enrollment private 2-year universities 1986-2019\n",
    "print(year_2_numbers_df[[\"private2_tuition\",\"private2_enrollment\"]].corr())"
   ]
  },
  {
   "cell_type": "code",
   "execution_count": 33,
   "metadata": {},
   "outputs": [
    {
     "name": "stdout",
     "output_type": "stream",
     "text": [
      "private2_tuition\n",
      "6384.0     265857.0\n",
      "7078.0     235168.0\n",
      "7967.0     259668.0\n",
      "8670.0     267229.0\n",
      "9302.0     243608.0\n",
      "9632.0     247085.0\n",
      "9903.0     237835.0\n",
      "10406.0    228539.0\n",
      "11170.0    221243.0\n",
      "11563.0    214700.0\n",
      "11954.0    248742.0\n",
      "12921.0    244883.0\n",
      "13319.0    243351.0\n",
      "14045.0    255470.0\n",
      "14907.0    251043.0\n",
      "15825.0    253878.0\n",
      "17753.0    258999.0\n",
      "19558.0    284977.0\n",
      "20297.0    302226.0\n",
      "21404.0    303826.0\n",
      "20284.0    293423.0\n",
      "21686.0    293110.0\n",
      "22723.0    331019.0\n",
      "24463.0    421012.0\n",
      "23101.0    465534.0\n",
      "23605.0    442992.0\n",
      "23355.0    375775.0\n",
      "23870.0    344233.0\n",
      "24327.0    317126.0\n",
      "24375.0    275157.0\n",
      "24888.0    249509.0\n",
      "25596.0    235311.0\n",
      "28627.0    198504.0\n",
      "NaN             NaN\n",
      "NaN             NaN\n",
      "NaN             NaN\n",
      "NaN             NaN\n",
      "NaN             NaN\n",
      "NaN             NaN\n",
      "NaN             NaN\n",
      "NaN             NaN\n",
      "NaN             NaN\n",
      "NaN             NaN\n",
      "NaN             NaN\n",
      "NaN             NaN\n",
      "NaN             NaN\n",
      "NaN             NaN\n",
      "NaN             NaN\n",
      "NaN             NaN\n",
      "NaN             NaN\n",
      "Name: private2_enrollment, dtype: float64\n"
     ]
    }
   ],
   "source": [
    "#Private 2 year universities tuition and enrollment 1990-2019\n",
    "private_two_by_tuition_full = year_2_numbers_df.set_index(\"private2_tuition\")[\"private2_enrollment\"]\n",
    "print(private_two_by_tuition_full)"
   ]
  },
  {
   "cell_type": "code",
   "execution_count": 34,
   "metadata": {},
   "outputs": [
    {
     "data": {
      "image/png": "[encoded data removed]",
      "text/plain": [
       "<Figure size 432x288 with 1 Axes>"
      ]
     },
     "metadata": {
      "needs_background": "light"
     },
     "output_type": "display_data"
    }
   ],
   "source": [
    "#Scatter Plot 2 year private university tuition vs. enrollment 1986-2019\n",
    "plt.scatter(private2_enrollment,\n",
    "           private2_tuition, \n",
    "           edgecolor=\"black\", linewidths=1, marker=\"o\",alpha=0.8)\n",
    "plt.ylabel(\"Tuition\")\n",
    "plt.xlabel(\"Enrollment\")\n",
    "plt.title(\"Enrollment vs. Tuition at 2-year private universities 1986-2019\")\n",
    "plt.grid(True)\n",
    "plt.savefig(\"/users/rebeccatast/desktop/Fig6.png\")\n",
    "\n",
    "plt.show()"
   ]
  },
  {
   "cell_type": "code",
   "execution_count": 35,
   "metadata": {},
   "outputs": [
    {
     "data": {
      "text/html": [
       "<div>\n",
       "<style scoped>\n",
       "    .dataframe tbody tr th:only-of-type {\n",
       "        vertical-align: middle;\n",
       "    }\n",
       "\n",
       "    .dataframe tbody tr th {\n",
       "        vertical-align: top;\n",
       "    }\n",
       "\n",
       "    .dataframe thead th {\n",
       "        text-align: right;\n",
       "    }\n",
       "</style>\n",
       "<table border=\"1\" class=\"dataframe\">\n",
       "  <thead>\n",
       "    <tr style=\"text-align: right;\">\n",
       "      <th></th>\n",
       "      <th>year</th>\n",
       "      <th>4_id</th>\n",
       "      <th>public4_enrollment</th>\n",
       "      <th>private4_enrollment</th>\n",
       "      <th>public4_tuition</th>\n",
       "      <th>private4_tuition</th>\n",
       "    </tr>\n",
       "  </thead>\n",
       "  <tbody>\n",
       "    <tr>\n",
       "      <th>0</th>\n",
       "      <td>1986</td>\n",
       "      <td>1</td>\n",
       "      <td>4247025</td>\n",
       "      <td>1871402</td>\n",
       "      <td>4138</td>\n",
       "      <td>10039</td>\n",
       "    </tr>\n",
       "    <tr>\n",
       "      <th>1</th>\n",
       "      <td>1987</td>\n",
       "      <td>2</td>\n",
       "      <td>4377535</td>\n",
       "      <td>1892478</td>\n",
       "      <td>4403</td>\n",
       "      <td>10659</td>\n",
       "    </tr>\n",
       "    <tr>\n",
       "      <th>2</th>\n",
       "      <td>1988</td>\n",
       "      <td>3</td>\n",
       "      <td>4487659</td>\n",
       "      <td>1953734</td>\n",
       "      <td>4678</td>\n",
       "      <td>11474</td>\n",
       "    </tr>\n",
       "    <tr>\n",
       "      <th>3</th>\n",
       "      <td>1989</td>\n",
       "      <td>4</td>\n",
       "      <td>4604082</td>\n",
       "      <td>1987560</td>\n",
       "      <td>4975</td>\n",
       "      <td>12284</td>\n",
       "    </tr>\n",
       "    <tr>\n",
       "      <th>4</th>\n",
       "      <td>1990</td>\n",
       "      <td>5</td>\n",
       "      <td>4713121</td>\n",
       "      <td>2005902</td>\n",
       "      <td>5243</td>\n",
       "      <td>13237</td>\n",
       "    </tr>\n",
       "  </tbody>\n",
       "</table>\n",
       "</div>"
      ],
      "text/plain": [
       "   year  4_id  public4_enrollment  private4_enrollment  public4_tuition  \\\n",
       "0  1986     1             4247025              1871402             4138   \n",
       "1  1987     2             4377535              1892478             4403   \n",
       "2  1988     3             4487659              1953734             4678   \n",
       "3  1989     4             4604082              1987560             4975   \n",
       "4  1990     5             4713121              2005902             5243   \n",
       "\n",
       "   private4_tuition  \n",
       "0             10039  \n",
       "1             10659  \n",
       "2             11474  \n",
       "3             12284  \n",
       "4             13237  "
      ]
     },
     "execution_count": 35,
     "metadata": {},
     "output_type": "execute_result"
    }
   ],
   "source": [
    "#read 33 year data csv for 4 year university tuition and enrollment\n",
    "year_4_numbers_df = pd.read_csv(\"//users/rebeccatast/desktop/4_year_tui_enroll.csv\")\n",
    "year_4_numbers_df.head()"
   ]
  },
  {
   "cell_type": "code",
   "execution_count": 36,
   "metadata": {},
   "outputs": [],
   "source": [
    "#pulling variables from df for plotting\n",
    "public4_tuition = year_4_numbers_df[\"public4_tuition\"]\n",
    "private4_tuition = year_4_numbers_df[\"private4_tuition\"]\n",
    "public4_enrollment = year_4_numbers_df[\"public4_enrollment\"]\n",
    "private4_enrollment = year_4_numbers_df[\"private4_enrollment\"]"
   ]
  },
  {
   "cell_type": "code",
   "execution_count": 37,
   "metadata": {},
   "outputs": [],
   "source": [
    "#Group by 4 year public universities and tuition 1986-2019\n",
    "public_group_four_year_full = year_4_numbers_df.set_index(\"public4_tuition\").groupby([\"public4_enrollment\"])"
   ]
  },
  {
   "cell_type": "code",
   "execution_count": 38,
   "metadata": {},
   "outputs": [
    {
     "name": "stdout",
     "output_type": "stream",
     "text": [
      "public4_tuition\n",
      "4138     4247025\n",
      "4403     4377535\n",
      "4678     4487659\n",
      "4975     4604082\n",
      "5243     4713121\n",
      "5693     4743142\n",
      "6020     4731783\n",
      "6365     4674765\n",
      "6670     4636762\n",
      "7014     4626228\n",
      "7334     4621245\n",
      "7673     4646793\n",
      "8027     4704249\n",
      "8274     4776442\n",
      "8653     4842261\n",
      "9196     4989220\n",
      "9787     5162656\n",
      "10674    5314218\n",
      "11426    5407236\n",
      "12108    5513730\n",
      "12799    5622745\n",
      "13429    5811918\n",
      "14212    5950019\n",
      "15036    6284806\n",
      "15919    6484937\n",
      "16787    6626741\n",
      "17475    6686035\n",
      "18100    6721881\n",
      "18632    6846981\n",
      "19204    6926519\n",
      "19488    7301070\n",
      "20049    7395134\n",
      "20598    7502622\n",
      "Name: public4_enrollment, dtype: int64\n"
     ]
    }
   ],
   "source": [
    "#Public 4 year universities tuition and enrollment 1986-2019\n",
    "public_four_by_tuition_full = year_4_numbers_df.set_index(\"public4_tuition\")[\"public4_enrollment\"]\n",
    "print(public_four_by_tuition_full)"
   ]
  },
  {
   "cell_type": "code",
   "execution_count": 39,
   "metadata": {},
   "outputs": [
    {
     "data": {
      "image/png": "[encoded data removed]",
      "text/plain": [
       "<Figure size 432x288 with 1 Axes>"
      ]
     },
     "metadata": {
      "needs_background": "light"
     },
     "output_type": "display_data"
    }
   ],
   "source": [
    "#Scatter Plot 4 year public university tuition vs. enrollment 1986-2019\n",
    "plt.scatter(public4_enrollment,\n",
    "           public4_tuition, \n",
    "           edgecolor=\"black\", linewidths=1, marker=\"o\",alpha=0.8)\n",
    "plt.ylabel(\"Tuition\")\n",
    "plt.xlabel(\"Enrollment (million)\")\n",
    "plt.title(\"Enrollment vs. Tuition at 4-year public universities 1986-2019\")\n",
    "plt.grid(True)\n",
    "plt.savefig(\"/users/rebeccatast/desktop/Fig7.png\")\n",
    "\n",
    "plt.show()"
   ]
  },
  {
   "cell_type": "code",
   "execution_count": 40,
   "metadata": {},
   "outputs": [
    {
     "name": "stdout",
     "output_type": "stream",
     "text": [
      "                    public4_tuition  public4_enrollment\n",
      "public4_tuition            1.000000            0.986481\n",
      "public4_enrollment         0.986481            1.000000\n"
     ]
    }
   ],
   "source": [
    "#correlation between tuition and enrollment public 4-year universities 1986-2019\n",
    "print(year_4_numbers_df[[\"public4_tuition\",\"public4_enrollment\"]].corr())"
   ]
  },
  {
   "cell_type": "code",
   "execution_count": 41,
   "metadata": {},
   "outputs": [],
   "source": [
    "#Group by 4 year private universities and tuition 1986-2019\n",
    "private_group_four_year_full = year_4_numbers_df.set_index(\"private4_tuition\").groupby([\"private4_enrollment\"])"
   ]
  },
  {
   "cell_type": "code",
   "execution_count": 42,
   "metadata": {},
   "outputs": [
    {
     "name": "stdout",
     "output_type": "stream",
     "text": [
      "private4_tuition\n",
      "10039    1871402\n",
      "10659    1892478\n",
      "11474    1953734\n",
      "12284    1987560\n",
      "13237    2005902\n",
      "14258    2044245\n",
      "15009    2083568\n",
      "15904    2083633\n",
      "16602    2096237\n",
      "17612    2113393\n",
      "18442    2142923\n",
      "19070    2198225\n",
      "19929    2243374\n",
      "20737    2309747\n",
      "21856    2365028\n",
      "22896    2475861\n",
      "23787    2565223\n",
      "25070    2672284\n",
      "26260    2827824\n",
      "27333    2962408\n",
      "28919    3043543\n",
      "30226    3172686\n",
      "31232    3423626\n",
      "31847    3656792\n",
      "32517    3913893\n",
      "33677    3939412\n",
      "35071    3881763\n",
      "36599    3783779\n",
      "37988    3732477\n",
      "39534    3620693\n",
      "41465    3481161\n",
      "43131    3425131\n",
      "44662    3362405\n",
      "Name: private4_enrollment, dtype: int64\n"
     ]
    }
   ],
   "source": [
    "#Private 4 year universities tuition and enrollment 1986-2019\n",
    "private_four_by_tuition_full = year_4_numbers_df.set_index(\"private4_tuition\")[\"private4_enrollment\"]\n",
    "print(private_four_by_tuition_full)"
   ]
  },
  {
   "cell_type": "code",
   "execution_count": 43,
   "metadata": {},
   "outputs": [
    {
     "data": {
      "image/png": "[encoded data removed]",
      "text/plain": [
       "<Figure size 432x288 with 1 Axes>"
      ]
     },
     "metadata": {
      "needs_background": "light"
     },
     "output_type": "display_data"
    }
   ],
   "source": [
    "#Scatter Plot 4 year private university tuition vs. enrollment 1986-2019\n",
    "plt.scatter(private4_enrollment,\n",
    "           private4_tuition, \n",
    "           edgecolor=\"black\", linewidths=1, marker=\"o\",alpha=0.8)\n",
    "plt.ylabel(\"Tuition\")\n",
    "plt.xlabel(\"Enrollment (million)\")\n",
    "plt.title(\"Enrollment vs. Tuition at 4-year private universities 1986-2019\")\n",
    "plt.grid(True)\n",
    "plt.savefig(\"/users/rebeccatast/desktop/Fig8.png\")\n",
    "\n",
    "plt.show()"
   ]
  },
  {
   "cell_type": "code",
   "execution_count": 44,
   "metadata": {},
   "outputs": [
    {
     "name": "stdout",
     "output_type": "stream",
     "text": [
      "                     private4_tuition  private4_enrollment\n",
      "private4_tuition             1.000000             0.920694\n",
      "private4_enrollment          0.920694             1.000000\n"
     ]
    }
   ],
   "source": [
    "#correlation between tuition and enrollment private 4-year universities 1986-2019\n",
    "print(year_4_numbers_df[[\"private4_tuition\",\"private4_enrollment\"]].corr())"
   ]
  },
  {
   "cell_type": "code",
   "execution_count": null,
   "metadata": {},
   "outputs": [],
   "source": []
  },
  {
   "cell_type": "code",
   "execution_count": null,
   "metadata": {},
   "outputs": [],
   "source": []
  }
 ],
 "metadata": {
  "kernelspec": {
   "display_name": "Python 3",
   "language": "python",
   "name": "python3"
  },
  "language_info": {
   "codemirror_mode": {
    "name": "ipython",
    "version": 3
   },
   "file_extension": ".py",
   "mimetype": "text/x-python",
   "name": "python",
   "nbconvert_exporter": "python",
   "pygments_lexer": "ipython3",
   "version": "3.8.3"
  }
 },
 "nbformat": 4,
 "nbformat_minor": 4
}
